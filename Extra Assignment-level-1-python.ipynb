{
 "cells": [
  {
   "cell_type": "code",
   "execution_count": 1,
   "id": "b73e1441-d66e-4969-bc05-c616c796beb7",
   "metadata": {},
   "outputs": [
    {
     "name": "stdout",
     "output_type": "stream",
     "text": [
      "HOPE AI\n"
     ]
    }
   ],
   "source": [
    "# print statement\n",
    "print(\"HOPE AI\")"
   ]
  },
  {
   "cell_type": "code",
   "execution_count": 5,
   "id": "af61998a-1210-458b-b7e9-afb41c6f17c1",
   "metadata": {},
   "outputs": [
    {
     "name": "stdin",
     "output_type": "stream",
     "text": [
      "Enter your institute name? : HOPE AI\n"
     ]
    }
   ],
   "source": [
    "# Buy input\n",
    "x = input(\"Enter your institute name? :\")"
   ]
  },
  {
   "cell_type": "code",
   "execution_count": 9,
   "id": "7ea545b3-5dfe-40a0-a5bd-43904679a3d0",
   "metadata": {},
   "outputs": [
    {
     "name": "stdin",
     "output_type": "stream",
     "text": [
      "Enter your name : Raj\n",
      "Enter your age : 15\n",
      "Enter your school name : Guru school\n",
      "Enter your name : B.E CSE\n"
     ]
    }
   ],
   "source": [
    "# Buy Inputs\n",
    "Name = input(\"Enter your name :\")\n",
    "Age = input(\"Enter your age :\")\n",
    "Scho = input(\"Enter your school name :\")\n",
    "Degree = input(\"Enter your name :\")"
   ]
  },
  {
   "cell_type": "code",
   "execution_count": 13,
   "id": "d6889a68-3a19-484d-9c40-15dc829e97c6",
   "metadata": {},
   "outputs": [
    {
     "name": "stdout",
     "output_type": "stream",
     "text": [
      "a= 43\n",
      "b= 34\n",
      "add= 77\n"
     ]
    }
   ],
   "source": [
    "#Addition\n",
    "a = 43\n",
    "b = 34\n",
    "add = a + b\n",
    "print(\"a=\",a)\n",
    "print(\"b=\",b)\n",
    "print(\"add=\", add)"
   ]
  },
  {
   "cell_type": "code",
   "execution_count": 17,
   "id": "80c23c49-69c5-43c2-a184-f7742165c2d4",
   "metadata": {},
   "outputs": [
    {
     "name": "stdout",
     "output_type": "stream",
     "text": [
      "a= 43\n",
      "b= 34\n",
      "Sub= 9\n"
     ]
    }
   ],
   "source": [
    "#Subtraction\n",
    "a = 43\n",
    "b = 34\n",
    "sub = a - b\n",
    "print(\"a=\",a)\n",
    "print(\"b=\",b)\n",
    "print(\"Sub=\", sub)"
   ]
  },
  {
   "cell_type": "code",
   "execution_count": 21,
   "id": "d1cf60bc-5a5d-4658-8e0f-5b8151f3c92f",
   "metadata": {},
   "outputs": [
    {
     "name": "stdout",
     "output_type": "stream",
     "text": [
      "a= 63\n",
      "b= 97\n",
      "Mul= 6111\n"
     ]
    }
   ],
   "source": [
    "#Multiplication \n",
    "a = 63\n",
    "b = 97\n",
    "Mul = a * b\n",
    "print(\"a=\",a)\n",
    "print(\"b=\",b)\n",
    "print(\"Mul=\", Mul)"
   ]
  },
  {
   "cell_type": "code",
   "execution_count": 23,
   "id": "1eb3b7f7-c331-4942-86d0-44bfadc38fb8",
   "metadata": {},
   "outputs": [
    {
     "name": "stdout",
     "output_type": "stream",
     "text": [
      "a= 76\n",
      "b= 31\n",
      "Float Div= 2.4516129032258065\n"
     ]
    }
   ],
   "source": [
    "#Multiplication \n",
    "a = 76\n",
    "b = 31\n",
    "div = a / b\n",
    "print(\"a=\",a)\n",
    "print(\"b=\",b)\n",
    "print(\"Float Div=\", div)"
   ]
  },
  {
   "cell_type": "code",
   "execution_count": 27,
   "id": "06cac892-a245-489c-a487-fd05bb6d9562",
   "metadata": {},
   "outputs": [],
   "source": [
    "import numpy as np\n",
    "import pandas as pd"
   ]
  },
  {
   "cell_type": "code",
   "execution_count": 41,
   "id": "9855a5f0-ce57-4c86-b5e3-690c76965663",
   "metadata": {},
   "outputs": [
    {
     "name": "stdout",
     "output_type": "stream",
     "text": [
      "a= 76\n",
      "b= 31\n",
      "Floor Div= 2\n"
     ]
    }
   ],
   "source": [
    "a = 76\n",
    "b = 31\n",
    "div = int(np.floor(a / b))\n",
    "print(\"a=\",a)\n",
    "print(\"b=\",b)\n",
    "print(\"Floor Div=\", div)"
   ]
  },
  {
   "cell_type": "code",
   "execution_count": 49,
   "id": "1c3406fc-4814-4355-ae4a-2b8102f4d0fe",
   "metadata": {},
   "outputs": [
    {
     "name": "stdout",
     "output_type": "stream",
     "text": [
      "a= 76\n",
      "b= 31\n",
      "Modulous= 14\n"
     ]
    }
   ],
   "source": [
    "#Modulous\n",
    "a = 76\n",
    "b = 31\n",
    "mod =a % b\n",
    "print(\"a=\",a)\n",
    "print(\"b=\",b)\n",
    "print(\"Modulous=\", mod)\n"
   ]
  },
  {
   "cell_type": "code",
   "execution_count": 51,
   "id": "c43581bd-9859-4047-b797-95b292d9f01d",
   "metadata": {},
   "outputs": [
    {
     "name": "stdout",
     "output_type": "stream",
     "text": [
      "a= 4\n",
      "b= 4\n",
      "Power = 256\n"
     ]
    }
   ],
   "source": [
    "#Power\n",
    "a = 4\n",
    "b = 4\n",
    "pow =a ** b\n",
    "print(\"a=\",a)\n",
    "print(\"b=\",b)\n",
    "print(\"Power =\", pow)\n"
   ]
  }
 ],
 "metadata": {
  "kernelspec": {
   "display_name": "Python [conda env:base] *",
   "language": "python",
   "name": "conda-base-py"
  },
  "language_info": {
   "codemirror_mode": {
    "name": "ipython",
    "version": 3
   },
   "file_extension": ".py",
   "mimetype": "text/x-python",
   "name": "python",
   "nbconvert_exporter": "python",
   "pygments_lexer": "ipython3",
   "version": "3.12.7"
  }
 },
 "nbformat": 4,
 "nbformat_minor": 5
}
