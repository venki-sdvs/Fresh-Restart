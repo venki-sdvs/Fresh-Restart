{
 "cells": [
  {
   "cell_type": "code",
   "execution_count": 1,
   "id": "26ee56f9-8d9b-4008-9512-1d763a702f3c",
   "metadata": {},
   "outputs": [
    {
     "name": "stdout",
     "output_type": "stream",
     "text": [
      "Welcome to Assignment-1\n"
     ]
    }
   ],
   "source": [
    "print(\"Welcome to Assignment-1\")"
   ]
  },
  {
   "cell_type": "code",
   "execution_count": 2,
   "id": "64c19cb0-e66d-43c5-aad8-0735f0b3f11d",
   "metadata": {},
   "outputs": [
    {
     "name": "stdout",
     "output_type": "stream",
     "text": [
      "Num1= 10\n",
      "Num2= 30\n",
      "Add= 40\n"
     ]
    }
   ],
   "source": [
    "Num1 = 10\n",
    "Num2 = 30\n",
    "Add = Num1 + Num2\n",
    "print(\"Num1=\",Num1)\n",
    "print(\"Num2=\",Num2)\n",
    "print(\"Add=\",Add)"
   ]
  },
  {
   "cell_type": "code",
   "execution_count": 3,
   "id": "8b4bc95b-163c-47e6-b374-30fd484d70f5",
   "metadata": {},
   "outputs": [
    {
     "name": "stdin",
     "output_type": "stream",
     "text": [
      "Enter the BMI Index: 34\n"
     ]
    },
    {
     "name": "stdout",
     "output_type": "stream",
     "text": [
      "Very overweight\n"
     ]
    }
   ],
   "source": [
    "#Body Mass Index\n",
    "\n",
    "BMI = int(input(\"Enter the BMI Index:\"))\n",
    "\n",
    "if BMI < 18.5:\n",
    "    print(\"UnderWeight\")\n",
    "elif BMI>18.5 and BMI<24.9:\n",
    "    print(\"Normal Weight\")\n",
    "elif BMI>=25 and BMI<29.9:\n",
    "    print(\"Overweight\")\n",
    "else:\n",
    "    print(\"Very overweight\")\n",
    "          \n"
   ]
  },
  {
   "cell_type": "code",
   "execution_count": null,
   "id": "83f43076-eb44-44d8-9771-270afd6a5ad6",
   "metadata": {},
   "outputs": [],
   "source": []
  }
 ],
 "metadata": {
  "kernelspec": {
   "display_name": "Python [conda env:base] *",
   "language": "python",
   "name": "conda-base-py"
  },
  "language_info": {
   "codemirror_mode": {
    "name": "ipython",
    "version": 3
   },
   "file_extension": ".py",
   "mimetype": "text/x-python",
   "name": "python",
   "nbconvert_exporter": "python",
   "pygments_lexer": "ipython3",
   "version": "3.12.7"
  }
 },
 "nbformat": 4,
 "nbformat_minor": 5
}
