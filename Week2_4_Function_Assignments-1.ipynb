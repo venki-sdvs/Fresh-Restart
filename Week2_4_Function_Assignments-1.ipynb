{
 "cells": [
  {
   "cell_type": "markdown",
   "id": "e182d1c3-101d-45e1-a19e-1b57b344cc72",
   "metadata": {},
   "source": [
    "### Week2: 4. Function Assignments-1"
   ]
  },
  {
   "cell_type": "markdown",
   "id": "0a8c45e2-5689-4b3f-830a-e83cc96aea2e",
   "metadata": {},
   "source": [
    "Create a function to print the below"
   ]
  },
  {
   "cell_type": "code",
   "execution_count": 38,
   "id": "2e246936-2e6e-4408-b649-c94e6ae9e563",
   "metadata": {},
   "outputs": [],
   "source": [
    "def Subfields():\n",
    "    print(\"Sub-fields in AI are: \")\n",
    "    list=[\"Machine Learning\",\"Neural Networks\", \"Vision\", \"Robotics\", \"Speech Processing\", \"Natural Language Processing\"]\n",
    "    for i in list:\n",
    "        print(i)"
   ]
  },
  {
   "cell_type": "markdown",
   "id": "844eca6b-059e-45cd-b4d7-649ce21f0578",
   "metadata": {},
   "source": [
    "Run the function"
   ]
  },
  {
   "cell_type": "code",
   "execution_count": 40,
   "id": "4d7e8363-564e-4d12-b727-1db6e3009ecd",
   "metadata": {},
   "outputs": [
    {
     "name": "stdout",
     "output_type": "stream",
     "text": [
      "Sub-fields in AI are: \n",
      "Machine Learning\n",
      "Neural Networks\n",
      "Vision\n",
      "Robotics\n",
      "Speech Processing\n",
      "Natural Language Processing\n"
     ]
    }
   ],
   "source": [
    "Subfields()"
   ]
  },
  {
   "cell_type": "markdown",
   "id": "979c28b2-da50-49a2-a1de-9f0e9acf128d",
   "metadata": {},
   "source": [
    "Create a function to check whther the number passed is Odd or Even"
   ]
  },
  {
   "cell_type": "code",
   "execution_count": 17,
   "id": "356b2a8d-f133-4606-9b1e-56e98535174d",
   "metadata": {},
   "outputs": [],
   "source": [
    "def OddEven():\n",
    "    num = int(input(\"Enter a number: \"))\n",
    "    if num%2 ==0:\n",
    "        print(num, 'is Even Number')\n",
    "        # msg= print(num + \" is Even Number\")\n",
    "    else:\n",
    "        print(num, 'is Odd Number')`\n",
    "        # msg= print(num + ' is Odd Number')\n",
    "    # return msg"
   ]
  },
  {
   "cell_type": "markdown",
   "id": "476d506b-c843-4f8a-a9fc-e93d0d9edec7",
   "metadata": {},
   "source": [
    "Run the function"
   ]
  },
  {
   "cell_type": "code",
   "execution_count": 19,
   "id": "69cabd44-e0bc-4bf0-a431-d86f26ed1287",
   "metadata": {},
   "outputs": [
    {
     "name": "stdin",
     "output_type": "stream",
     "text": [
      "Enter a number:  4\n"
     ]
    },
    {
     "name": "stdout",
     "output_type": "stream",
     "text": [
      "4 is Even Number\n"
     ]
    }
   ],
   "source": [
    "OddEven()"
   ]
  },
  {
   "cell_type": "markdown",
   "id": "c36e7131-2527-4d85-b01b-72e9900d53a0",
   "metadata": {},
   "source": [
    "Create a funtion to whether the person is ellibile or not for the marriage"
   ]
  },
  {
   "cell_type": "code",
   "execution_count": 1,
   "id": "69ae47a8-dd6b-4f03-80e4-036d697bba0f",
   "metadata": {},
   "outputs": [],
   "source": [
    "def Eligible():\n",
    "    Gender = input(\"Your Gender:\")\n",
    "    Age = int(input(\"Your Age:\"))\n",
    "\n",
    "    if Gender ==\"Male\" and Age >=21:\n",
    "        print('ELIGIBLE')\n",
    "        msg = 'ELIGIBLE' \n",
    "    elif Gender == 'Female' and Age >=18:\n",
    "        print('ELIGIBLE')\n",
    "        msg = 'ELIGIBLE'\n",
    "    else:\n",
    "        print('NOT ELIGIBLE')"
   ]
  },
  {
   "cell_type": "code",
   "execution_count": 3,
   "id": "258b2073-76a1-4ca8-840e-33941a6939d0",
   "metadata": {},
   "outputs": [
    {
     "name": "stdin",
     "output_type": "stream",
     "text": [
      "Your Gender: Male\n",
      "Your Age: 18\n"
     ]
    },
    {
     "name": "stdout",
     "output_type": "stream",
     "text": [
      "NOT ELIGIBLE\n"
     ]
    }
   ],
   "source": [
    "Eligible()"
   ]
  },
  {
   "cell_type": "markdown",
   "id": "b9408f69-55e6-49a5-b462-ab4d4e5dde3c",
   "metadata": {},
   "source": [
    "Create a funtion for percentage calculation"
   ]
  },
  {
   "cell_type": "code",
   "execution_count": 5,
   "id": "5036acff-395d-4f81-a408-6b5441905d3a",
   "metadata": {},
   "outputs": [],
   "source": [
    "def percentage():\n",
    "    sub1 =int(input(\"Subject1= \"))\n",
    "    sub2 =int(input(\"Subject2= \"))\n",
    "    sub3 =int(input(\"Subject3= \"))\n",
    "    sub4 =int(input(\"Subject4= \"))\n",
    "    sub5 =int(input(\"Subject5= \"))\n",
    "    \n",
    "    tot = sub1+sub2+sub3+sub4+sub5\n",
    "    percent =(tot/500)*100\n",
    "    print('Total :', tot)\n",
    "    print('Percentage :',percent)"
   ]
  },
  {
   "cell_type": "code",
   "execution_count": 7,
   "id": "015ac390-e905-4dd4-89f3-d41d6d806a44",
   "metadata": {},
   "outputs": [
    {
     "name": "stdin",
     "output_type": "stream",
     "text": [
      "Subject1=  23\n",
      "Subject2=  45\n",
      "Subject3=  34\n",
      "Subject4=  23\n",
      "Subject5=  23\n"
     ]
    },
    {
     "name": "stdout",
     "output_type": "stream",
     "text": [
      "Total : 148\n",
      "Percentage : 29.599999999999998\n"
     ]
    }
   ],
   "source": [
    "percentage()"
   ]
  },
  {
   "cell_type": "markdown",
   "id": "b7868730-f839-44e0-889b-efaa192bd034",
   "metadata": {},
   "source": [
    "Create a function to calculate Area and perimeter of a triangle"
   ]
  },
  {
   "cell_type": "code",
   "execution_count": 9,
   "id": "849687fa-45a8-40db-ac52-e7bdb0f55b33",
   "metadata": {},
   "outputs": [],
   "source": [
    "def triangle():\n",
    "    Height = int(input(\"Height:\"))\n",
    "    Breadth = int(input(\"Breadth:\"))\n",
    "    Area = (Height* Breadth)/2\n",
    "    print(\"Area formula: (Height*Breadth)/2\")\n",
    "    print(\"Are of Triangle:\", Area)\n",
    "    \n",
    "    Height1 = int(input(\"Height1:\"))\n",
    "    Height2 = int(input(\"Height2:\"))\n",
    "    Breadth = int(input(\"Breadth:\"))\n",
    "    Perimeter = Height1+Height2+Breadth\n",
    "    print(\"Perimeter formula: Height1+Height2+Breadth\")\n",
    "    print(\"Perimeter of Triangle:\", Perimeter)"
   ]
  },
  {
   "cell_type": "code",
   "execution_count": 11,
   "id": "5aeb0ada-c471-473c-a28d-4235eeff82e9",
   "metadata": {},
   "outputs": [
    {
     "name": "stdin",
     "output_type": "stream",
     "text": [
      "Height: 3\n",
      "Breadth: 4\n"
     ]
    },
    {
     "name": "stdout",
     "output_type": "stream",
     "text": [
      "Area formula: (Height*Breadth)/2\n",
      "Are of Triangle: 6.0\n"
     ]
    },
    {
     "name": "stdin",
     "output_type": "stream",
     "text": [
      "Height1: 3\n",
      "Height2: 4\n",
      "Breadth: 45\n"
     ]
    },
    {
     "name": "stdout",
     "output_type": "stream",
     "text": [
      "Perimeter formula: Height1+Height2+Breadth\n",
      "Perimeter of Triangle: 52\n"
     ]
    }
   ],
   "source": [
    "triangle()"
   ]
  }
 ],
 "metadata": {
  "kernelspec": {
   "display_name": "Python 3 (ipykernel)",
   "language": "python",
   "name": "python3"
  },
  "language_info": {
   "codemirror_mode": {
    "name": "ipython",
    "version": 3
   },
   "file_extension": ".py",
   "mimetype": "text/x-python",
   "name": "python",
   "nbconvert_exporter": "python",
   "pygments_lexer": "ipython3",
   "version": "3.12.7"
  }
 },
 "nbformat": 4,
 "nbformat_minor": 5
}
