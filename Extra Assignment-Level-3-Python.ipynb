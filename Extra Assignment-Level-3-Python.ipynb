{
 "cells": [
  {
   "cell_type": "code",
   "execution_count": 1,
   "id": "f7a8a745-617b-4e62-aa45-b9f00e0e8ec6",
   "metadata": {},
   "outputs": [
    {
     "name": "stdin",
     "output_type": "stream",
     "text": [
      "Value: 10\n"
     ]
    },
    {
     "name": "stdout",
     "output_type": "stream",
     "text": [
      "CORRECT\n"
     ]
    }
   ],
   "source": [
    "# print 'CORRECT' if i == 10\n",
    "i = int(input(\"Value:\" ))\n",
    "\n",
    "if i==10:\n",
    "    print(\"CORRECT\")        "
   ]
  },
  {
   "cell_type": "code",
   "execution_count": 3,
   "id": "c7d68ab4-a2e0-4413-86f7-d069734ddbdb",
   "metadata": {},
   "outputs": [
    {
     "name": "stdin",
     "output_type": "stream",
     "text": [
      "Enter the password: HOPE@123\n"
     ]
    },
    {
     "name": "stdout",
     "output_type": "stream",
     "text": [
      "Your password is correct\n"
     ]
    }
   ],
   "source": [
    "# Check the password, using if and else\n",
    "password = 'HOPE@123'\n",
    "\n",
    "CheckPass = input('Enter the password:')\n",
    "\n",
    "if (CheckPass== password):\n",
    "    print('Your password is correct')\n",
    "else:\n",
    "    print('Your password is incorrect')\n",
    "    "
   ]
  },
  {
   "cell_type": "code",
   "execution_count": 5,
   "id": "3ba773d4-beda-4942-9eea-645da9225a0e",
   "metadata": {},
   "outputs": [
    {
     "name": "stdin",
     "output_type": "stream",
     "text": [
      "Enter the age to check the category 45\n"
     ]
    },
    {
     "name": "stdout",
     "output_type": "stream",
     "text": [
      "Citizen\n"
     ]
    }
   ],
   "source": [
    "# Catagory the people by their age like children, adult, citizen, senior citizen...\n",
    "age = int(input('Enter the age to check the category'))\n",
    "\n",
    "if age <18:\n",
    "    print('Children')\n",
    "elif age>=18 and age<40:\n",
    "    print('Adult')\n",
    "elif age>=40 and age<60:\n",
    "    print('Citizen')\n",
    "else:\n",
    "    print('Senior Citizen')\n",
    "\n",
    "    \n",
    "                "
   ]
  },
  {
   "cell_type": "code",
   "execution_count": 7,
   "id": "9f65f82e-eb80-4f5d-b01f-2ea09e785145",
   "metadata": {},
   "outputs": [
    {
     "name": "stdin",
     "output_type": "stream",
     "text": [
      "Enter any number 1\n"
     ]
    },
    {
     "name": "stdout",
     "output_type": "stream",
     "text": [
      "No. is positive\n"
     ]
    }
   ],
   "source": [
    "# Find whether given number is positive or negative\n",
    "\n",
    "Num = int(input('Enter any number'))\n",
    "\n",
    "if (Num>0):\n",
    "    print('No. is positive')\n",
    "else:\n",
    "    print('No. is negative')\n",
    "    "
   ]
  },
  {
   "cell_type": "code",
   "execution_count": 9,
   "id": "aa37acc0-f3a3-454f-adc4-c086eada2e3d",
   "metadata": {},
   "outputs": [
    {
     "name": "stdin",
     "output_type": "stream",
     "text": [
      "Enter a number to check 22\n"
     ]
    },
    {
     "name": "stdout",
     "output_type": "stream",
     "text": [
      "No. is not divisible by 5\n"
     ]
    }
   ],
   "source": [
    "#Check whether the given number is divisible by 5\n",
    "\n",
    "Num = int(input('Enter a number to check'))\n",
    "\n",
    "if (Num%5)==0:\n",
    "    print('No. is divisible by 5')\n",
    "else:\n",
    "    print('No. is not divisible by 5')"
   ]
  }
 ],
 "metadata": {
  "kernelspec": {
   "display_name": "Python [conda env:base] *",
   "language": "python",
   "name": "conda-base-py"
  },
  "language_info": {
   "codemirror_mode": {
    "name": "ipython",
    "version": 3
   },
   "file_extension": ".py",
   "mimetype": "text/x-python",
   "name": "python",
   "nbconvert_exporter": "python",
   "pygments_lexer": "ipython3",
   "version": "3.12.7"
  }
 },
 "nbformat": 4,
 "nbformat_minor": 5
}
